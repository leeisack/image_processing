{
 "cells": [
  {
   "cell_type": "code",
   "execution_count": 6,
   "metadata": {},
   "outputs": [
    {
     "name": "stdout",
     "output_type": "stream",
     "text": [
      "Collecting opencv-python\n",
      "  Using cached opencv_python-4.4.0.42-cp37-cp37m-win_amd64.whl (33.5 MB)\n",
      "Requirement already satisfied: numpy>=1.14.5 in c:\\users\\sackd\\anaconda3\\envs\\tf\\lib\\site-packages (from opencv-python) (1.19.1)\n",
      "Installing collected packages: opencv-python\n",
      "Successfully installed opencv-python-4.4.0.42\n",
      "Note: you may need to restart the kernel to use updated packages.\n"
     ]
    }
   ],
   "source": [
    "pip install opencv-python"
   ]
  },
  {
   "cell_type": "code",
   "execution_count": 1,
   "metadata": {},
   "outputs": [],
   "source": [
    "# https://www.youtube.com/watch?v=-S7q2XSpeYM&list=PLwfJJiO20qkDue05S5MNhgYNnClMVlagN&index=3\n",
    "import cv2\n",
    "#이미지 출력\n",
    "img_color = cv2.imread('externalFile.jpg',cv2.IMREAD_COLOR)\n",
    "\n",
    "cv2.namedWindow('show image')\n",
    "cv2.imshow('show image',img_color)\n",
    "\n",
    "\n",
    "cv2.waitKey(0)\n",
    "cv2.destroyAllWindows()"
   ]
  },
  {
   "cell_type": "code",
   "execution_count": null,
   "metadata": {},
   "outputs": [],
   "source": [
    "#이미지 그레이스케일로 출력\n",
    "\n",
    "img_gray = cv2.cvtColor(img_color, cv2.COLOR_BGR2GRAY)\n",
    "cv2.imshow('show image', img_gray)\n",
    "\n",
    "cv2.waitKey(0)\n",
    "# imwrite로 이미지 저장\n",
    "# cv2.imwrite('gray_img.jpg', img_gray) \n",
    "\n",
    "cv2.destroyAllWindows()"
   ]
  },
  {
   "cell_type": "code",
   "execution_count": 2,
   "metadata": {},
   "outputs": [],
   "source": [
    "#내장 카메라 로부터 사진 캡쳐후 가져오기\n",
    "\n",
    "cap = cv2.VideoCapture(0)\n",
    "\n",
    "ret, img_color = cap.read()\n",
    "\n",
    "cv2.imshow(\"Color\", img_color)\n",
    "cv2.waitKey(0)\n",
    "\n",
    "cap.release()\n",
    "cv2.destroyAllWindows()"
   ]
  },
  {
   "cell_type": "code",
   "execution_count": 3,
   "metadata": {},
   "outputs": [],
   "source": [
    "# 내장카메라로부터 영상을 가져오는방법 \n",
    "# 사진을 계속해서 찍는다.\n",
    "cap = cv2.VideoCapture(0)\n",
    "\n",
    "while(True):\n",
    "    ret, img_color = cap.read()\n",
    "    \n",
    "    if ret == False: #캡처가 되지 않은경우 \n",
    "        continue\n",
    "    cv2.imshow(\"Color\", img_color)\n",
    "    if cv2.waitKey(1)&0xff == 27: #1초 대기후 다음 실행\n",
    "        break\n",
    "\n",
    "cap.release()\n",
    "cv2.destroyAllWindows()"
   ]
  },
  {
   "cell_type": "code",
   "execution_count": 28,
   "metadata": {},
   "outputs": [],
   "source": [
    "#그레이로 영상 출력\n",
    "cap = cv2.VideoCapture(0)\n",
    "\n",
    "#영상저장을 위한 코드\n",
    "# fourcc = cv2.VideoWriter_fourcc(*'XVID') #XVID는 코덱의 이름\n",
    "# writer = cv2.VideoWriter('test_movie.avi',fourcc,30.0, (640,480) )\n",
    "#VideoWriter('영상이름',코덱,카메라로부터캡처되는 초당프레임, 저장할 영상크기)\n",
    "#---------------------------\n",
    "\n",
    "while(True):\n",
    "    ret, img_color = cap.read()\n",
    "    \n",
    "    if ret == False: #캡처가 되지 않은경우 \n",
    "        continue\n",
    "        \n",
    "    img_gray = cv2.cvtColor(img_color, cv2.COLOR_BGR2GRAY)\n",
    "        \n",
    "    cv2.imshow(\"Color\", img_color)\n",
    "    cv2.imshow(\"Gray\", img_gray)\n",
    "    \n",
    "    writer.write(img_color)\n",
    "    \n",
    "    if cv2.waitKey(1)&0xff == 27: #1초 대기후 다음 실행\n",
    "        break\n",
    "\n",
    "cap.release()\n",
    "# writer.release()\n",
    "\n",
    "cv2.destroyAllWindows()"
   ]
  },
  {
   "cell_type": "code",
   "execution_count": 29,
   "metadata": {},
   "outputs": [],
   "source": [
    "#영상 재생\n",
    "\n",
    "cap = cv2.VideoCapture('test_movie.avi') #재생할 영상이름\n",
    "fourcc = cv2.VideoWriter_fourcc(*'XVID')\n",
    "\n",
    "while(True):\n",
    "    ret, img_color = cap.read()\n",
    "    \n",
    "    if ret == False: \n",
    "        break #영상재생이 끝나면 종료\n",
    "        \n",
    "    img_gray = cv2.cvtColor(img_color, cv2.COLOR_BGR2GRAY)\n",
    "        \n",
    "    cv2.imshow(\"Color\", img_color)\n",
    "    cv2.imshow(\"Gray\", img_gray)\n",
    "    \n",
    "    writer.write(img_color)\n",
    "    \n",
    "    if cv2.waitKey(1)&0xff == 27: #1초 대기후 다음 실행\n",
    "        break\n",
    "\n",
    "cap.release()\n",
    "# writer.release()\n",
    "\n",
    "cv2.destroyAllWindows()"
   ]
  },
  {
   "cell_type": "code",
   "execution_count": 3,
   "metadata": {},
   "outputs": [],
   "source": [
    "import cv2\n",
    "\n",
    "img_color = cv2.imread('externalFile.jpg', cv2.IMREAD_COLOR)\n",
    "\n",
    "cv2.imshow('Color', img_color)\n",
    "cv2.waitKey(0)\n",
    "\n",
    "img_gray = cv2.cvtColor(img_color, cv2.COLOR_BGR2GRAY)\n",
    "\n",
    "cv2.imshow(\"Gray\", img_gray)\n",
    "cv2.waitKey(0)\n",
    "\n",
    "cv2.destroyAllWindows()"
   ]
  },
  {
   "cell_type": "code",
   "execution_count": null,
   "metadata": {},
   "outputs": [],
   "source": []
  }
 ],
 "metadata": {
  "kernelspec": {
   "display_name": "Python 3",
   "language": "python",
   "name": "python3"
  },
  "language_info": {
   "codemirror_mode": {
    "name": "ipython",
    "version": 3
   },
   "file_extension": ".py",
   "mimetype": "text/x-python",
   "name": "python",
   "nbconvert_exporter": "python",
   "pygments_lexer": "ipython3",
   "version": "3.7.7"
  }
 },
 "nbformat": 4,
 "nbformat_minor": 4
}
