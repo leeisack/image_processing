{
 "cells": [
  {
   "cell_type": "code",
   "execution_count": 12,
   "metadata": {},
   "outputs": [
    {
     "name": "stdout",
     "output_type": "stream",
     "text": [
      "I found 13 faces in the file C:\\Users\\sackd\\Desktop\\endgame.jpg\n",
      "- Face #0 found at Left: 377 Top: 297 Right: 429 Bottom: 349\n",
      "- Face #1 found at Left: 573 Top: 274 Right: 625 Bottom: 326\n",
      "- Face #2 found at Left: 101 Top: 6 Right: 137 Bottom: 42\n",
      "- Face #3 found at Left: 252 Top: 198 Right: 315 Bottom: 260\n",
      "- Face #4 found at Left: 137 Top: 386 Right: 173 Bottom: 422\n",
      "- Face #5 found at Left: 653 Top: 198 Right: 689 Bottom: 234\n",
      "- Face #6 found at Left: 69 Top: 482 Right: 105 Bottom: 518\n",
      "- Face #7 found at Left: 242 Top: 343 Right: 285 Bottom: 386\n",
      "- Face #8 found at Left: 142 Top: 253 Right: 204 Bottom: 315\n",
      "- Face #9 found at Left: 487 Top: 218 Right: 550 Bottom: 281\n",
      "- Face #10 found at Left: 592 Top: 362 Right: 636 Bottom: 406\n",
      "- Face #11 found at Left: 370 Top: 94 Right: 432 Bottom: 156\n",
      "- Face #12 found at Left: 597 Top: 442 Right: 633 Bottom: 478\n"
     ]
    }
   ],
   "source": [
    "import sys\n",
    "import dlib\n",
    "from skimage import io\n",
    "\n",
    "# Take the image file name from the command line\n",
    "file_name = r\"C:\\Users\\sackd\\Desktop\\endgame.jpg\"\n",
    "\n",
    "# Create a HOG face detector using the built-in dlib class\n",
    "face_detector = dlib.get_frontal_face_detector()\n",
    "\n",
    "win = dlib.image_window()\n",
    "\n",
    "# Load the image into an array\n",
    "image = io.imread(file_name)\n",
    "\n",
    "# Run the HOG face detector on the image data.\n",
    "# The result will be the bounding boxes of the faces in our image.\n",
    "detected_faces = face_detector(image, 1)\n",
    "\n",
    "print(\"I found {} faces in the file {}\".format(len(detected_faces), file_name))\n",
    "\n",
    "# Open a window on the desktop showing the image\n",
    "win.set_image(image)\n",
    "\n",
    "# Loop through each face we found in the image\n",
    "for i, face_rect in enumerate(detected_faces):\n",
    "\n",
    "\t# Detected faces are returned as an object with the coordinates \n",
    "\t# of the top, left, right and bottom edges\n",
    "\tprint(\"- Face #{} found at Left: {} Top: {} Right: {} Bottom: {}\".format(i, face_rect.left(), face_rect.top(), face_rect.right(), face_rect.bottom()))\n",
    "\n",
    "\t# Draw a box around each face we found\n",
    "\twin.add_overlay(face_rect)\n",
    "\t        \n",
    "# Wait until the user hits <enter> to close the window\t        \n",
    "dlib.hit_enter_to_continue()"
   ]
  },
  {
   "cell_type": "code",
   "execution_count": null,
   "metadata": {},
   "outputs": [],
   "source": []
  }
 ],
 "metadata": {
  "kernelspec": {
   "display_name": "Python 3",
   "language": "python",
   "name": "python3"
  },
  "language_info": {
   "codemirror_mode": {
    "name": "ipython",
    "version": 3
   },
   "file_extension": ".py",
   "mimetype": "text/x-python",
   "name": "python",
   "nbconvert_exporter": "python",
   "pygments_lexer": "ipython3",
   "version": "3.7.7"
  }
 },
 "nbformat": 4,
 "nbformat_minor": 4
}
