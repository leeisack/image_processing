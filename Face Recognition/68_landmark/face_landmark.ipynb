{
 "cells": [
  {
   "cell_type": "code",
   "execution_count": 5,
   "metadata": {},
   "outputs": [],
   "source": [
    "#얼굴인식후 사각형의 라인 그려주기\n",
    "import cv2\n",
    "import numpy as np\n",
    "import dlib\n",
    "\n",
    "cap = cv2.VideoCapture(0)\n",
    "detector = dlib.get_frontal_face_detector()\n",
    "\n",
    "while True: #web캡으로 영상 받아오기 esc키를 누르면 종료\n",
    "    _,frame = cap.read()\n",
    "    gray = cv2.cvtColor(frame, cv2.COLOR_BGR2GRAY) #색상에 대한 정보는 필요없어서 그레이스케일\n",
    "    \n",
    "    \n",
    "    faces = detector(gray)\n",
    "    for face in faces:\n",
    "#         print(face)#감지된 얼굴의 좌표를 출력\n",
    "        x1 = face.left() #위의 좌표를 나눔 x1,y1 은 좌측 상단 x2,y2는 우측 하단의 좌표.\n",
    "        y1 = face.top()\n",
    "        x2 = face.right()\n",
    "        y2 = face.bottom()\n",
    "        cv2.rectangle(frame, (x1,y1),(x2,y2),(0,255,0),3) #좌표를 기점으로 그림을 그려줌\n",
    "        \n",
    "    cv2.imshow(\"Frame\",frame)\n",
    "    \n",
    "    key = cv2.waitKey(1)\n",
    "    if key == 27:\n",
    "        break"
   ]
  },
  {
   "cell_type": "code",
   "execution_count": 19,
   "metadata": {},
   "outputs": [],
   "source": [
    "#얼굴인식에 필요한 68개의 랜드마크 표시\n",
    "import cv2\n",
    "import numpy as np\n",
    "import dlib\n",
    "\n",
    "cap = cv2.VideoCapture(0)\n",
    "detector = dlib.get_frontal_face_detector()\n",
    "predictor = dlib.shape_predictor(\"shape_predictor_68_face_landmarks.dat\")\n",
    "\n",
    "while True: #web캡으로 영상 받아오기 esc키를 누르면 종료\n",
    "    _,frame = cap.read()\n",
    "    gray = cv2.cvtColor(frame, cv2.COLOR_BGR2GRAY) #색상에 대한 정보는 필요없어서 그레이스케일\n",
    "    \n",
    "    \n",
    "    faces = detector(gray)\n",
    "    for face in faces:\n",
    "#         print(face)#감지된 얼굴의 좌표를 출력\n",
    "        x1 = face.left() #위의 좌표를 나눔 x1,y1 은 좌측 상단 x2,y2는 우측 하단의 좌표.\n",
    "        y1 = face.top()\n",
    "        x2 = face.right()\n",
    "        y2 = face.bottom()\n",
    "        \n",
    "        landmarks = predictor(gray, face)\n",
    "#         x = landmarks.part(0).x\n",
    "#         y = landmarks.part(0).y\n",
    "        # 68개의 랜드마크중 0을 찍음 (오른쪽 귀쪽이 0)\n",
    "        for n in range(0,68):\n",
    "            x = landmarks.part(n).x\n",
    "            y = landmarks.part(n).y\n",
    "            cv2.circle(frame,(x,y),3,(255,0,0),-1)\n",
    "        \n",
    "    cv2.imshow(\"Frame\",frame)\n",
    "    \n",
    "    key = cv2.waitKey(1)\n",
    "    if key == 27:\n",
    "        break"
   ]
  }
 ],
 "metadata": {
  "kernelspec": {
   "display_name": "Python 3",
   "language": "python",
   "name": "python3"
  },
  "language_info": {
   "codemirror_mode": {
    "name": "ipython",
    "version": 3
   },
   "file_extension": ".py",
   "mimetype": "text/x-python",
   "name": "python",
   "nbconvert_exporter": "python",
   "pygments_lexer": "ipython3",
   "version": "3.7.7"
  }
 },
 "nbformat": 4,
 "nbformat_minor": 4
}
